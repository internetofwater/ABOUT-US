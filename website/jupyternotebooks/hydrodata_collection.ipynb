{
 "cells": [
  {
   "cell_type": "code",
   "execution_count": 68,
   "metadata": {},
   "outputs": [
    {
     "data": {
      "text/plain": [
       "440"
      ]
     },
     "execution_count": 68,
     "metadata": {},
     "output_type": "execute_result"
    }
   ],
   "source": [
    "import codecs\n",
    "import pandas as pd, requests, json\n",
    "\n",
    "df = pd.read_table('surfacewaterdata', sep='\\t', lineterminator='\\r')\n",
    "\n",
    "df2 = df[[\"site_no\", \"station_nm\", \"site_tp_cd\"]]\n",
    "\n",
    "#df3 = df2.drop([0, 133])\n",
    "\n",
    "siteNumbers = df2[\"site_no\"]\n",
    "siteNumbers.size"
   ]
  },
  {
   "cell_type": "code",
   "execution_count": 119,
   "metadata": {
    "scrolled": false
   },
   "outputs": [
    {
     "data": {
      "text/html": [
       "<div>\n",
       "<style scoped>\n",
       "    .dataframe tbody tr th:only-of-type {\n",
       "        vertical-align: middle;\n",
       "    }\n",
       "\n",
       "    .dataframe tbody tr th {\n",
       "        vertical-align: top;\n",
       "    }\n",
       "\n",
       "    .dataframe thead th {\n",
       "        text-align: right;\n",
       "    }\n",
       "</style>\n",
       "<table border=\"1\" class=\"dataframe\">\n",
       "  <thead>\n",
       "    <tr style=\"text-align: right;\">\n",
       "      <th></th>\n",
       "      <th>00065_Mean</th>\n",
       "      <th>00065_Maximum</th>\n",
       "      <th>00065_Minimum</th>\n",
       "      <th>site_no</th>\n",
       "      <th>00065_Mean_cd</th>\n",
       "      <th>00065_Maximum_cd</th>\n",
       "      <th>00065_Minimum_cd</th>\n",
       "      <th>year</th>\n",
       "      <th>month</th>\n",
       "      <th>day</th>\n",
       "      <th>date</th>\n",
       "    </tr>\n",
       "  </thead>\n",
       "  <tbody>\n",
       "    <tr>\n",
       "      <th>2020-07-20</th>\n",
       "      <td>1.00</td>\n",
       "      <td>NaN</td>\n",
       "      <td>NaN</td>\n",
       "      <td>02043433</td>\n",
       "      <td>P</td>\n",
       "      <td>NaN</td>\n",
       "      <td>NaN</td>\n",
       "      <td>2020</td>\n",
       "      <td>07</td>\n",
       "      <td>20</td>\n",
       "      <td>2020-07-20</td>\n",
       "    </tr>\n",
       "    <tr>\n",
       "      <th>2020-07-20</th>\n",
       "      <td>6.43</td>\n",
       "      <td>6.58</td>\n",
       "      <td>6.26</td>\n",
       "      <td>0204382800</td>\n",
       "      <td>P</td>\n",
       "      <td>P</td>\n",
       "      <td>P</td>\n",
       "      <td>2020</td>\n",
       "      <td>07</td>\n",
       "      <td>20</td>\n",
       "      <td>2020-07-20</td>\n",
       "    </tr>\n",
       "  </tbody>\n",
       "</table>\n",
       "</div>"
      ],
      "text/plain": [
       "            00065_Mean  00065_Maximum  00065_Minimum     site_no  \\\n",
       "2020-07-20        1.00            NaN            NaN    02043433   \n",
       "2020-07-20        6.43           6.58           6.26  0204382800   \n",
       "\n",
       "           00065_Mean_cd 00065_Maximum_cd 00065_Minimum_cd  year month day  \\\n",
       "2020-07-20             P              NaN              NaN  2020    07  20   \n",
       "2020-07-20             P                P                P  2020    07  20   \n",
       "\n",
       "                  date  \n",
       "2020-07-20  2020-07-20  \n",
       "2020-07-20  2020-07-20  "
      ]
     },
     "execution_count": 119,
     "metadata": {},
     "output_type": "execute_result"
    }
   ],
   "source": [
    "# first import the functions for downloading data from NWIS\n",
    "import dataretrieval.nwis as nwis\n",
    "from datetime import date\n",
    "import datetime\n",
    "import codecs\n",
    "import pandas as pd, requests, json\n",
    "\n",
    "#create empty dataframes\n",
    "newDF = pd.DataFrame()\n",
    "\n",
    "#assign start and end dates\n",
    "days = datetime.timedelta(1)\n",
    "new_date = date.today() - days\n",
    "newest_date = (str(new_date))\n",
    "\n",
    "for i in range(10):\n",
    "    if i==0:\n",
    "        continue\n",
    "    df = nwis.get_record(sites=siteNumbers[i], service='dv', start=newest_date, end=date.today())\n",
    "    if (df.empty):\n",
    "        continue\n",
    "    a_list = df.index.tolist()\n",
    "    if(len(a_list) > 0):\n",
    "        a_list[0] = str(a_list[0]).replace(\" 00:00:00+00:00\", \"\")\n",
    "        df.index = a_list\n",
    "    newDF = newDF.append(df, ignore_index = False)\n",
    "    newDF[\"date\"] = newDF.index\n",
    "    newDF[['year','month', 'day']] = newDF.date.str.split(\"-\",expand=True)\n",
    "finalDF = newDF[[\"00065_Mean\", \"00065_Maximum\", \"00065_Minimum\", \"site_no\", \"00065_Mean_cd\", \"00065_Maximum_cd\", \"00065_Minimum_cd\", 'year','month', 'day', \"date\"]]\n",
    "finalDF"
   ]
  },
  {
   "cell_type": "code",
   "execution_count": 85,
   "metadata": {},
   "outputs": [
    {
     "data": {
      "text/html": [
       "<div>\n",
       "<style scoped>\n",
       "    .dataframe tbody tr th:only-of-type {\n",
       "        vertical-align: middle;\n",
       "    }\n",
       "\n",
       "    .dataframe tbody tr th {\n",
       "        vertical-align: top;\n",
       "    }\n",
       "\n",
       "    .dataframe thead th {\n",
       "        text-align: right;\n",
       "    }\n",
       "</style>\n",
       "<table border=\"1\" class=\"dataframe\">\n",
       "  <thead>\n",
       "    <tr style=\"text-align: right;\">\n",
       "      <th></th>\n",
       "      <th>00065_Mean</th>\n",
       "      <th>00065_Mean_cd</th>\n",
       "      <th>site_no</th>\n",
       "    </tr>\n",
       "    <tr>\n",
       "      <th>datetime</th>\n",
       "      <th></th>\n",
       "      <th></th>\n",
       "      <th></th>\n",
       "    </tr>\n",
       "  </thead>\n",
       "  <tbody>\n",
       "    <tr>\n",
       "      <th>2020-07-20 00:00:00+00:00</th>\n",
       "      <td>1.0</td>\n",
       "      <td>P</td>\n",
       "      <td>02043433</td>\n",
       "    </tr>\n",
       "  </tbody>\n",
       "</table>\n",
       "</div>"
      ],
      "text/plain": [
       "                           00065_Mean 00065_Mean_cd   site_no\n",
       "datetime                                                     \n",
       "2020-07-20 00:00:00+00:00         1.0             P  02043433"
      ]
     },
     "execution_count": 85,
     "metadata": {},
     "output_type": "execute_result"
    }
   ],
   "source": [
    "df = nwis.get_record(sites='02043433', service='dv', start=newest_date, end=date.today())\n",
    "df.index.astype('str')\n",
    "df"
   ]
  },
  {
   "cell_type": "code",
   "execution_count": null,
   "metadata": {},
   "outputs": [],
   "source": [
    "def df_to_geojson(df, properties, lat='latitude', lon='longitude'):\n",
    "    geojson = {'type':'FeatureCollection', 'features':[]}\n",
    "    for _, row in df.iterrows():\n",
    "        feature = {'type':'Feature',\n",
    "                   'properties':{},\n",
    "                   'geometry':{'type':'Point',\n",
    "                               'coordinates':[]}}\n",
    "        feature['geometry']['coordinates'] = [row[lon],row[lat]]\n",
    "        for prop in properties:\n",
    "            feature['properties'][prop] = row[prop]\n",
    "        geojson['features'].append(feature)\n",
    "    return geojson"
   ]
  },
  {
   "cell_type": "code",
   "execution_count": null,
   "metadata": {},
   "outputs": [],
   "source": [
    "useful_columns = ['site_no', 'station_nm', 'site_tp_cd']\n",
    "geojson_dict = df_to_geojson(groundwater, properties=useful_columns)\n",
    "geojson_str = json.dumps(geojson_dict, indent=2)"
   ]
  },
  {
   "cell_type": "code",
   "execution_count": null,
   "metadata": {},
   "outputs": [],
   "source": [
    "# save the geojson result to a file\n",
    "output_filename = 'groundwater_points.geojson'\n",
    "with open(output_filename, 'w') as output_file:\n",
    "    output_file.write('{}'.format(geojson_str))\n",
    "    \n",
    "# how many features did we save to the geojson file?\n",
    "print('{} geotagged features saved to file'.format(len(geojson_dict['features'])))"
   ]
  },
  {
   "cell_type": "code",
   "execution_count": null,
   "metadata": {},
   "outputs": [],
   "source": []
  },
  {
   "cell_type": "code",
   "execution_count": null,
   "metadata": {},
   "outputs": [],
   "source": []
  },
  {
   "cell_type": "code",
   "execution_count": null,
   "metadata": {},
   "outputs": [],
   "source": []
  }
 ],
 "metadata": {
  "kernelspec": {
   "display_name": "Python 3",
   "language": "python",
   "name": "python3"
  },
  "language_info": {
   "codemirror_mode": {
    "name": "ipython",
    "version": 3
   },
   "file_extension": ".py",
   "mimetype": "text/x-python",
   "name": "python",
   "nbconvert_exporter": "python",
   "pygments_lexer": "ipython3",
   "version": "3.7.7"
  }
 },
 "nbformat": 4,
 "nbformat_minor": 4
}
